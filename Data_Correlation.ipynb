{
  "nbformat": 4,
  "nbformat_minor": 0,
  "metadata": {
    "colab": {
      "name": "Data_Correlation.ipynb",
      "provenance": [],
      "collapsed_sections": [],
      "authorship_tag": "ABX9TyPZToOFdUdoRQZB07aMk/vo",
      "include_colab_link": true
    },
    "kernelspec": {
      "name": "python3",
      "display_name": "Python 3"
    },
    "language_info": {
      "name": "python"
    }
  },
  "cells": [
    {
      "cell_type": "markdown",
      "metadata": {
        "id": "view-in-github",
        "colab_type": "text"
      },
      "source": [
        "<a href=\"https://colab.research.google.com/github/angad26/Data-Correlation-Project/blob/main/Data_Correlation.ipynb\" target=\"_parent\"><img src=\"https://colab.research.google.com/assets/colab-badge.svg\" alt=\"Open In Colab\"/></a>"
      ]
    },
    {
      "cell_type": "code",
      "metadata": {
        "id": "_3rnTm7Zio8E"
      },
      "source": [
        "import pandas as pd\n",
        "import numpy as np\n",
        "import seaborn as sns\n",
        "import matplotlib\n",
        "import matplotlib.pyplot as plt\n"
      ],
      "execution_count": 2,
      "outputs": []
    },
    {
      "cell_type": "code",
      "metadata": {
        "id": "nV_K4cW35-GF"
      },
      "source": [
        "url = 'https://raw.githubusercontent.com/angad26/Data-Correlation-Project/main/movies.csv'\n",
        "\n",
        "db = pd.read_csv(url)"
      ],
      "execution_count": 3,
      "outputs": []
    },
    {
      "cell_type": "code",
      "metadata": {
        "id": "aKlnCE1x3rLr"
      },
      "source": [
        "db.head()"
      ],
      "execution_count": null,
      "outputs": []
    },
    {
      "cell_type": "code",
      "metadata": {
        "id": "VjTcAW-CLLkL"
      },
      "source": [
        "for col in db.columns:\n",
        "  pct_missing = np.mean(db[col].isnull())\n",
        "  print(col,' ',pct_missing)"
      ],
      "execution_count": null,
      "outputs": []
    },
    {
      "cell_type": "code",
      "metadata": {
        "id": "RpPKUPWxMFaJ"
      },
      "source": [
        "db.dtypes"
      ],
      "execution_count": null,
      "outputs": []
    },
    {
      "cell_type": "code",
      "metadata": {
        "id": "cIdgtyewnJIe"
      },
      "source": [
        "db['budget'] = db['budget'].fillna(0)\n",
        "db['gross'] = db['gross'].fillna(0)"
      ],
      "execution_count": 7,
      "outputs": []
    },
    {
      "cell_type": "code",
      "metadata": {
        "id": "zUM4poAzOJOj"
      },
      "source": [
        "db['budget'] = db['budget'].astype('int64')\n",
        "db['gross'] = db['gross'].astype('int64')"
      ],
      "execution_count": 8,
      "outputs": []
    },
    {
      "cell_type": "code",
      "metadata": {
        "id": "QIaoguEfnctQ"
      },
      "source": [
        "db"
      ],
      "execution_count": null,
      "outputs": []
    },
    {
      "cell_type": "code",
      "metadata": {
        "id": "XYB294w8nic6"
      },
      "source": [
        "db.sort_values(by='gross', inplace=False, ascending=False)"
      ],
      "execution_count": null,
      "outputs": []
    },
    {
      "cell_type": "code",
      "metadata": {
        "id": "R7Bu38asaJes"
      },
      "source": [
        "db.sort_values(by='gross', inplace=False, ascending=False)"
      ],
      "execution_count": null,
      "outputs": []
    },
    {
      "cell_type": "code",
      "metadata": {
        "id": "CjWhEqLcaSzL"
      },
      "source": [
        "db['company'].drop_duplicates().sort_values(ascending=False)"
      ],
      "execution_count": null,
      "outputs": []
    },
    {
      "cell_type": "code",
      "metadata": {
        "id": "TxJDZQ2TaoXO"
      },
      "source": [
        "plt.scatter(x=db['budget'],y=db['gross'])\n",
        "plt.title('Budget v/s Gross Earnings')\n",
        "plt.ylabel('Gross Earnings')\n",
        "plt.xlabel('Budget for Film')\n",
        "plt.show()"
      ],
      "execution_count": null,
      "outputs": []
    },
    {
      "cell_type": "code",
      "metadata": {
        "id": "FJTDwOvRc07C"
      },
      "source": [
        "sns.regplot(x='budget',y='gross', data=db, scatter_kws={\"color\":\"red\"}, line_kws={\"color\":\"blue\"})"
      ],
      "execution_count": null,
      "outputs": []
    },
    {
      "cell_type": "code",
      "metadata": {
        "id": "PikF8vC2dwss"
      },
      "source": [
        "correlation_matrix = db.corr()"
      ],
      "execution_count": 29,
      "outputs": []
    },
    {
      "cell_type": "code",
      "metadata": {
        "id": "v21Bqft0euc-"
      },
      "source": [
        "sns.heatmap(correlation_matrix, annot=True)\n",
        "plt.title(\"Correlation Matrix\")\n",
        "plt.xlabel(\"Movie Features\")\n",
        "plt.ylabel(\"Movie Features\")"
      ],
      "execution_count": null,
      "outputs": []
    },
    {
      "cell_type": "code",
      "metadata": {
        "colab": {
          "base_uri": "https://localhost:8080/",
          "height": 204
        },
        "id": "QsO6Q9sSfoBY",
        "outputId": "1bfbc36e-5e40-45b3-da04-fcaf0c1120e2"
      },
      "source": [
        "db_numerized = db\n",
        "\n",
        "for col_name in db_numerized.columns:\n",
        "  if (db_numerized[col_name].dtype == 'object'):\n",
        "    db_numerized[col_name] = db_numerized[col_name].astype('category')\n",
        "    db_numerized[col_name] = db_numerized[col_name].cat.codes\n",
        "\n",
        "db_numerized.head()"
      ],
      "execution_count": 41,
      "outputs": [
        {
          "output_type": "execute_result",
          "data": {
            "text/html": [
              "<div>\n",
              "<style scoped>\n",
              "    .dataframe tbody tr th:only-of-type {\n",
              "        vertical-align: middle;\n",
              "    }\n",
              "\n",
              "    .dataframe tbody tr th {\n",
              "        vertical-align: top;\n",
              "    }\n",
              "\n",
              "    .dataframe thead th {\n",
              "        text-align: right;\n",
              "    }\n",
              "</style>\n",
              "<table border=\"1\" class=\"dataframe\">\n",
              "  <thead>\n",
              "    <tr style=\"text-align: right;\">\n",
              "      <th></th>\n",
              "      <th>name</th>\n",
              "      <th>rating</th>\n",
              "      <th>genre</th>\n",
              "      <th>year</th>\n",
              "      <th>released</th>\n",
              "      <th>score</th>\n",
              "      <th>votes</th>\n",
              "      <th>director</th>\n",
              "      <th>writer</th>\n",
              "      <th>star</th>\n",
              "      <th>country</th>\n",
              "      <th>budget</th>\n",
              "      <th>gross</th>\n",
              "      <th>company</th>\n",
              "      <th>runtime</th>\n",
              "      <th>yearcorrect</th>\n",
              "    </tr>\n",
              "  </thead>\n",
              "  <tbody>\n",
              "    <tr>\n",
              "      <th>0</th>\n",
              "      <td>6587</td>\n",
              "      <td>6</td>\n",
              "      <td>6</td>\n",
              "      <td>1980</td>\n",
              "      <td>1705</td>\n",
              "      <td>8.4</td>\n",
              "      <td>927000.0</td>\n",
              "      <td>2589</td>\n",
              "      <td>4014</td>\n",
              "      <td>1047</td>\n",
              "      <td>54</td>\n",
              "      <td>19000000</td>\n",
              "      <td>46998772</td>\n",
              "      <td>2319</td>\n",
              "      <td>146.0</td>\n",
              "      <td>97</td>\n",
              "    </tr>\n",
              "    <tr>\n",
              "      <th>1</th>\n",
              "      <td>5573</td>\n",
              "      <td>6</td>\n",
              "      <td>1</td>\n",
              "      <td>1980</td>\n",
              "      <td>1492</td>\n",
              "      <td>5.8</td>\n",
              "      <td>65000.0</td>\n",
              "      <td>2269</td>\n",
              "      <td>1632</td>\n",
              "      <td>327</td>\n",
              "      <td>55</td>\n",
              "      <td>4500000</td>\n",
              "      <td>58853106</td>\n",
              "      <td>731</td>\n",
              "      <td>104.0</td>\n",
              "      <td>189</td>\n",
              "    </tr>\n",
              "    <tr>\n",
              "      <th>2</th>\n",
              "      <td>5142</td>\n",
              "      <td>4</td>\n",
              "      <td>0</td>\n",
              "      <td>1980</td>\n",
              "      <td>1771</td>\n",
              "      <td>8.7</td>\n",
              "      <td>1200000.0</td>\n",
              "      <td>1111</td>\n",
              "      <td>2567</td>\n",
              "      <td>1745</td>\n",
              "      <td>55</td>\n",
              "      <td>18000000</td>\n",
              "      <td>538375067</td>\n",
              "      <td>1540</td>\n",
              "      <td>124.0</td>\n",
              "      <td>97</td>\n",
              "    </tr>\n",
              "    <tr>\n",
              "      <th>3</th>\n",
              "      <td>286</td>\n",
              "      <td>4</td>\n",
              "      <td>4</td>\n",
              "      <td>1980</td>\n",
              "      <td>1492</td>\n",
              "      <td>7.7</td>\n",
              "      <td>221000.0</td>\n",
              "      <td>1301</td>\n",
              "      <td>2000</td>\n",
              "      <td>2246</td>\n",
              "      <td>55</td>\n",
              "      <td>3500000</td>\n",
              "      <td>83453539</td>\n",
              "      <td>1812</td>\n",
              "      <td>88.0</td>\n",
              "      <td>189</td>\n",
              "    </tr>\n",
              "    <tr>\n",
              "      <th>4</th>\n",
              "      <td>1027</td>\n",
              "      <td>6</td>\n",
              "      <td>4</td>\n",
              "      <td>1980</td>\n",
              "      <td>1543</td>\n",
              "      <td>7.3</td>\n",
              "      <td>108000.0</td>\n",
              "      <td>1054</td>\n",
              "      <td>521</td>\n",
              "      <td>410</td>\n",
              "      <td>55</td>\n",
              "      <td>6000000</td>\n",
              "      <td>39846344</td>\n",
              "      <td>1777</td>\n",
              "      <td>98.0</td>\n",
              "      <td>97</td>\n",
              "    </tr>\n",
              "  </tbody>\n",
              "</table>\n",
              "</div>"
            ],
            "text/plain": [
              "   name  rating  genre  year  ...      gross  company  runtime  yearcorrect\n",
              "0  6587       6      6  1980  ...   46998772     2319    146.0           97\n",
              "1  5573       6      1  1980  ...   58853106      731    104.0          189\n",
              "2  5142       4      0  1980  ...  538375067     1540    124.0           97\n",
              "3   286       4      4  1980  ...   83453539     1812     88.0          189\n",
              "4  1027       6      4  1980  ...   39846344     1777     98.0           97\n",
              "\n",
              "[5 rows x 16 columns]"
            ]
          },
          "metadata": {
            "tags": []
          },
          "execution_count": 41
        }
      ]
    }
  ]
}